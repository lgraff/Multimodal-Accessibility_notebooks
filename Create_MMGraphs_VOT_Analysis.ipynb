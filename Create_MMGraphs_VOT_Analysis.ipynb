{
 "cells": [
  {
   "cell_type": "code",
   "execution_count": 1,
   "metadata": {},
   "outputs": [
    {
     "name": "stderr",
     "output_type": "stream",
     "text": [
      "/Applications/anaconda3/lib/python3.8/site-packages/geopandas/_compat.py:111: UserWarning: The Shapely GEOS version (3.8.0-CAPI-1.13.1 ) is incompatible with the GEOS version PyGEOS was compiled with (3.10.1-CAPI-1.16.0). Conversions between both will be slow.\n",
      "  warnings.warn(\n"
     ]
    }
   ],
   "source": [
    "import geopandas as gpd\n",
    "import shapely\n",
    "from shapely.geometry import box, LineString, Point,MultiPoint\n",
    "from shapely.ops import nearest_points\n",
    "import pandas as pd\n",
    "import matplotlib.pyplot as plt\n",
    "import numpy as np\n",
    "import os\n",
    "import networkx as nx\n",
    "import re\n",
    "import osmnx as ox\n",
    "import itertools\n",
    "#from geopy import distance\n",
    "from shapely import wkt\n",
    "from math import radians, degrees, sin, cos, asin, acos, sqrt, floor\n",
    "from IPython.core.interactiveshell import InteractiveShell\n",
    "InteractiveShell.ast_node_interactivity = \"all\"\n",
    "import shutil\n",
    "\n",
    "pd.options.mode.chained_assignment = None"
   ]
  },
  {
   "cell_type": "code",
   "execution_count": 3,
   "metadata": {},
   "outputs": [
    {
     "data": {
      "text/plain": [
       "'/Users/lindsaygraff/Documents/Multimodal Transit Research/Code'"
      ]
     },
     "execution_count": 3,
     "metadata": {},
     "output_type": "execute_result"
    }
   ],
   "source": [
    "folder"
   ]
  },
  {
   "cell_type": "code",
   "execution_count": 5,
   "metadata": {},
   "outputs": [],
   "source": [
    "folder = os.getcwd()\n",
    "filename = folder + '/OutputData/graph_RAWCOLS_bs_z_sc_t_pt_pb.csv'\n",
    "df = pd.read_csv(filename)"
   ]
  },
  {
   "cell_type": "code",
   "execution_count": 6,
   "metadata": {},
   "outputs": [],
   "source": [
    "walk_speed = 1.4 # m/s\n",
    "#park_pphour = 2.50   # $; can be tuned       actually, going to the use the parking rate published with data\n",
    "drive_speed = 5  # mph, speed as you go to park\n",
    "num_park_hours = 4   # can be tuned\n",
    "walk_speed = 1.3  # m/s\n",
    "scoot_speed = 2.5  # m/s\n",
    "scoot_ppmin = 0.39  # $/min\n",
    "scoot_fix_price = 1  # $\n",
    "bike_speed = 15 * 1000 / 3600  # m/s\n",
    "bs_price = 20/300  # $/min\n",
    "PT_price = 2.75  # $/ride\n",
    "TNC_wait_time = 7 # min\n",
    "TNC_fix_price = 2.55 + 3  # $  fixed cost + tax/fee (estimate tax+fee = 3, for simplicity)\n",
    "TNC_op_ppmile = 1.75  # $/mile\n",
    "TNC_op_ppmin =  1  #0.35  # $/min\n",
    "pb_price = 0  # $\n",
    "pv_ppmile = 0.20  # $/mile\n",
    "zip_ppmin = 11/60   # $/min; still need to incorporate fixed monthly cost\n",
    "zip_fixed_pmonth = 9\n",
    "est_num_ziptrips = 4\n",
    "\n",
    "# conversion factors\n",
    "meters_in_mile = 1609\n",
    "miles_in_km = 0.621371\n",
    "\n",
    "# time-dependency: Consider a period of length 120 minutes (i.e. 7-9am), where each interval is 10 mintues long\n",
    "interval_spacing = 10 # minutes\n",
    "len_period = 120  # minutes\n",
    "num_intervals = int(120/interval_spacing)+1\n",
    "\n",
    "# beta parameters\n",
    "b_price, b_TT = 1, 10/60  #21.59/60    # b_risk should be tuned\n",
    "b_risk = b_TT\n",
    "# for median hourly wage estimate for PA: https://www.bls.gov/oes/current/oes_pa.htm\n",
    "b_disc = b_TT  # b/c defined w.r.t. travel time\n",
    "b_rel = 0.5 * b_TT  # b/c defined w.r.t. travel time\n",
    "\n",
    "# First, for every edge in the G_bs network, add a \"discomfort\" cost associated with biking\n",
    "# For simplicity, call it [some_scalar] * avg TT. So we will think of it in terms of TT minutes\n",
    "# Move this scalar to the top of the code in the params \n",
    "discomf_weight_bike = 3/10  # TO BE TUNED!\n",
    "discomf_weight_sw = 1/10\n",
    "reliability_weight_active_mode = 1\n",
    "reliability_weight_nonactive_mode = 1.5\n",
    "\n",
    "active_modes = ['w','pb','bs','sc']\n",
    "nonactive_mode = ['pv','pt','t','z']  \n",
    "board_alight = ['board', 'alight']  # these are special case edges\n",
    "reliability_weight_active_mode = 1\n",
    "reliability_weight_nonactive_mode = 1.5\n",
    "\n",
    "# rel_weights = dict(zip(active_modes, [reliability_weight_active_mode]*len(active_modes)))\n",
    "# rel_weights.update(dict(zip(nonactive_mode, [reliability_weight_nonactive_mode]*len(nonactive_mode))))\n",
    "# rel_weights\n",
    "\n",
    "active_modes = ['w','pb','bs','sc']\n",
    "nonactive_mode = ['pv','pt','t','z']  # where to put board and alight? i think they are special cases"
   ]
  },
  {
   "cell_type": "code",
   "execution_count": 33,
   "metadata": {},
   "outputs": [],
   "source": [
    "price_cols = ['interval'+str(i)+'_price' for i in range(num_intervals)]\n",
    "TT_cols = ['interval'+str(i)+'_avg_TT_min' for i in range(num_intervals)]\n",
    "rel_cols = ['interval'+str(i)+'_reliability' for i in range(num_intervals)]\n",
    "risk_cols = ['interval'+str(i)+'_risk' for i in range(num_intervals)]\n",
    "cols_keep = (['source','target','mode_type', 'risk_idx', 'discomfort','interval0_COST'] \n",
    "             + TT_cols + price_cols + rel_cols + risk_cols)\n",
    "\n",
    "# df = df[cols_keep]\n",
    "# # add discomfort for active modes\n",
    "# mask = (df['mode_type'].isin(active_modes)) & (df['discomfort'].isna())\n",
    "# # one interval's TT is representative of all intervals b/c active modes are not td\n",
    "# df.loc[mask, 'discomfort'] = df.loc[mask, 'interval0_avg_TT_min'] * discomf_weight\n",
    "# df.loc[df['mode_type'].isin(nonactive_mode + board_alight), 'discomfort'] = 0  # for non-active modes\n",
    "# # add total cost as a function of the five other attributes.\n",
    "# # bikeshare is already calculated b/c precomputed. so do this for all other modes\n",
    "\n",
    "\n",
    "bs_mask = df['mode_type'] == 'bs'\n",
    "\n",
    "for i in range(num_intervals):\n",
    "    # exception for mode_type == 'bs'\n",
    "    df.loc[~bs_mask,'interval'+str(i)+'_COST'] = (b_TT * df.loc[~bs_mask,'interval'+str(i)+'_avg_TT_min'] +\n",
    "                                                    b_rel * df.loc[~bs_mask,'interval'+str(i)+'_reliability'] +\n",
    "                                                    b_price * df.loc[~bs_mask,'interval'+str(i)+'_price'] +\n",
    "                                                    b_risk * df.loc[~bs_mask,'interval'+str(i)+'_risk'])\n",
    "\n",
    "# bikeshare is precomputed but only for a single cost (interval0_COST). add this cost for intervals 1-num_intervals\n",
    "# so that the entire table is full\n",
    "for i in range(1,num_intervals):\n",
    "    df.loc[bs_mask, 'interval'+str(i)+'_COST'] = df.loc[bs_mask, 'interval0_COST']\n",
    "    \n",
    "# only keep cost columns\n",
    "cost_cols = ['interval'+str(i)+'_COST' for i in range(num_intervals)]\n",
    "cols_keep = ['source','target','mode_type'] + cost_cols\n",
    "df_G_final = df[cols_keep]"
   ]
  },
  {
   "cell_type": "code",
   "execution_count": 34,
   "metadata": {},
   "outputs": [],
   "source": [
    "filename_1 = 'graph_RAWCOLS_bs_z_sc_t_pt_pb_.csv'\n",
    "df_G_final.to_csv(folder + '/OutputData/' + filename_1, index=False)"
   ]
  },
  {
   "cell_type": "code",
   "execution_count": 37,
   "metadata": {},
   "outputs": [
    {
     "data": {
      "text/plain": [
       "'/Users/lindsaygraff/Documents/Multimodal Transit Research/Code/OutputData.zip'"
      ]
     },
     "execution_count": 37,
     "metadata": {},
     "output_type": "execute_result"
    }
   ],
   "source": [
    "# zip the file before uploading to github\n",
    "shutil.make_archive(folder + '/OutputData', 'zip', folder + '/OutputData')"
   ]
  }
 ],
 "metadata": {
  "kernelspec": {
   "display_name": "Python 3",
   "language": "python",
   "name": "python3"
  },
  "language_info": {
   "codemirror_mode": {
    "name": "ipython",
    "version": 3
   },
   "file_extension": ".py",
   "mimetype": "text/x-python",
   "name": "python",
   "nbconvert_exporter": "python",
   "pygments_lexer": "ipython3",
   "version": "3.8.3"
  }
 },
 "nbformat": 4,
 "nbformat_minor": 4
}
